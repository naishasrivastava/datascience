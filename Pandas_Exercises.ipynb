{
 "cells": [
  {
   "cell_type": "markdown",
   "metadata": {
    "cell_id": "00000-a1a70b45-4173-41c3-bd0f-1c7334aedbc1",
    "colab_type": "text",
    "deepnote_cell_type": "markdown",
    "id": "bSU6eKZTdMXZ"
   },
   "source": [
    "# Pandas Exercises"
   ]
  },
  {
   "cell_type": "code",
   "execution_count": null,
   "metadata": {
    "cell_id": "00001-c6d0491e-81bf-48bb-9f7d-2474bd25924c",
    "colab": {},
    "colab_type": "code",
    "deepnote_cell_type": "code",
    "deepnote_to_be_reexecuted": false,
    "execution_millis": 4,
    "execution_start": 1625522830394,
    "id": "c5ewTg7vdQFm",
    "source_hash": "73161b4"
   },
   "outputs": [],
   "source": [
    "import pandas as pd\n",
    "\n",
    "path = \"diabetes.csv\"\n",
    "names = ['preg', 'plas', 'pres', 'skin', 'test', 'mass', 'pedi', 'age', 'class']"
   ]
  },
  {
   "cell_type": "markdown",
   "metadata": {
    "cell_id": "00002-042a372d-c00c-4c1f-ac93-787afa44b1e9",
    "colab_type": "text",
    "deepnote_cell_type": "markdown",
    "id": "QOLgFaSKeShR"
   },
   "source": [
    "Read in csv above to a pandas dataframe"
   ]
  },
  {
   "cell_type": "code",
   "execution_count": 123,
   "metadata": {
    "cell_id": "00003-3853efa3-180b-4c70-8be9-3a18524779a8",
    "colab": {},
    "colab_type": "code",
    "deepnote_cell_type": "code",
    "id": "Okcb8dnXeX2C"
   },
   "outputs": [
    {
     "name": "stdout",
     "output_type": "stream",
     "text": [
      "Data Loaded Successfully!\n"
     ]
    }
   ],
   "source": [
    "data = pd.read_csv(path, names=names)\n",
    "print(\"Data Loaded Successfully!\")"
   ]
  },
  {
   "cell_type": "markdown",
   "metadata": {
    "cell_id": "00004-7ec9296d-24bf-4019-8f5a-c844c6b8cb1a",
    "colab_type": "text",
    "deepnote_cell_type": "markdown",
    "id": "d4DyOsuoewE2"
   },
   "source": [
    "Print out the age and class of the 100th patient"
   ]
  },
  {
   "cell_type": "code",
   "execution_count": 124,
   "metadata": {
    "cell_id": "00005-0056ddb4-3287-41f8-834d-5ece93cf6909",
    "colab": {},
    "colab_type": "code",
    "deepnote_cell_type": "code",
    "id": "xZqBsg39eY8_"
   },
   "outputs": [
    {
     "name": "stdout",
     "output_type": "stream",
     "text": [
      "Age and Class of 100th patient:\n"
     ]
    },
    {
     "data": {
      "text/plain": [
       "age      31.0\n",
       "class     1.0\n",
       "Name: 99, dtype: float64"
      ]
     },
     "execution_count": 124,
     "metadata": {},
     "output_type": "execute_result"
    }
   ],
   "source": [
    "print(\"Age and Class of 100th patient:\")\n",
    "data.loc[99, ['age', 'class']]"
   ]
  },
  {
   "cell_type": "markdown",
   "metadata": {
    "cell_id": "00006-82daaf2f-3e31-463a-9b7a-53799ab84fef",
    "colab_type": "text",
    "deepnote_cell_type": "markdown",
    "id": "j8L2EM-5iOWc"
   },
   "source": [
    "Write code to figure out how many people are classified as not having diabetes, class is 0"
   ]
  },
  {
   "cell_type": "code",
   "execution_count": 125,
   "metadata": {
    "cell_id": "00007-2d900e3b-23a6-403c-9bde-7e09d0510fcd",
    "colab": {},
    "colab_type": "code",
    "deepnote_cell_type": "code",
    "id": "vohzS51WiWvD"
   },
   "outputs": [
    {
     "name": "stdout",
     "output_type": "stream",
     "text": [
      "People without Diabetes: 500\n"
     ]
    }
   ],
   "source": [
    "no_diabetes = (data['class'] == 0).sum()\n",
    "print(\"People without Diabetes:\", no_diabetes)"
   ]
  },
  {
   "cell_type": "markdown",
   "metadata": {
    "cell_id": "00008-389ce810-0027-4af4-b4bf-a5bdc38c1573",
    "colab_type": "text",
    "deepnote_cell_type": "markdown",
    "id": "ieGRz4iiiX4E"
   },
   "source": [
    "Write code to figure out how many people are classified as having diabetes, class is 1"
   ]
  },
  {
   "cell_type": "code",
   "execution_count": 126,
   "metadata": {
    "cell_id": "00009-5eb55bcc-0b10-4a59-a3de-fad689a23fe1",
    "colab": {},
    "colab_type": "code",
    "deepnote_cell_type": "code",
    "id": "-jq2O-vriXRT"
   },
   "outputs": [
    {
     "name": "stdout",
     "output_type": "stream",
     "text": [
      "People with Diabetes: 268\n"
     ]
    }
   ],
   "source": [
    "has_diabetes = (data['class'] == 1).sum()\n",
    "print(\"People with Diabetes:\", has_diabetes)"
   ]
  },
  {
   "cell_type": "markdown",
   "metadata": {
    "cell_id": "00010-31b5f7c6-ea56-457b-ae9c-72ab86c5c567",
    "colab_type": "text",
    "deepnote_cell_type": "markdown",
    "id": "oeFT7T9OnuSd"
   },
   "source": [
    "What percent of people have diabetes in the study"
   ]
  },
  {
   "cell_type": "code",
   "execution_count": 127,
   "metadata": {
    "cell_id": "00011-a33c8893-4cbc-42b5-898d-e3115c13e329",
    "colab": {},
    "colab_type": "code",
    "deepnote_cell_type": "code",
    "id": "zGGHptFYnwq0"
   },
   "outputs": [
    {
     "name": "stdout",
     "output_type": "stream",
     "text": [
      "Percent with Diabetes: 34.89583333333333\n"
     ]
    }
   ],
   "source": [
    "percent_diabetes = (has_diabetes / len(data)) * 100\n",
    "print(\"Percent with Diabetes:\", percent_diabetes)"
   ]
  },
  {
   "cell_type": "markdown",
   "metadata": {
    "cell_id": "00012-5080ee0d-b515-4ca1-954d-63144b849480",
    "colab_type": "text",
    "deepnote_cell_type": "markdown",
    "id": "nbrjnRPafs0p"
   },
   "source": [
    "Print out the `\"pres\"` and `\"class\"` (no other columns) for the first 5 people"
   ]
  },
  {
   "cell_type": "code",
   "execution_count": 128,
   "metadata": {
    "cell_id": "00013-52905732-b305-424f-98c1-182e4ababc0c",
    "colab": {},
    "colab_type": "code",
    "deepnote_cell_type": "code",
    "id": "GiNCJ19KfHJQ"
   },
   "outputs": [
    {
     "name": "stdout",
     "output_type": "stream",
     "text": [
      "   pres  class\n",
      "0    72      1\n",
      "1    66      0\n",
      "2    64      1\n",
      "3    66      0\n",
      "4    40      1\n"
     ]
    }
   ],
   "source": [
    "print(data.loc[0:4, ['pres', 'class']])"
   ]
  },
  {
   "cell_type": "markdown",
   "metadata": {
    "cell_id": "00014-f3aad72a-9f72-4fb7-9d82-8d10b502d48a",
    "colab_type": "text",
    "deepnote_cell_type": "markdown",
    "id": "O-CcsoqlhxUn"
   },
   "source": [
    "Run the cell below, it will print out the correlation among the columns"
   ]
  },
  {
   "cell_type": "code",
   "execution_count": 129,
   "metadata": {
    "cell_id": "00015-2172a85f-0f52-484b-a29e-5c3e48658917",
    "colab": {},
    "colab_type": "code",
    "deepnote_cell_type": "code",
    "id": "pXpVFt6MffQt"
   },
   "outputs": [
    {
     "data": {
      "text/html": [
       "<div>\n",
       "<style scoped>\n",
       "    .dataframe tbody tr th:only-of-type {\n",
       "        vertical-align: middle;\n",
       "    }\n",
       "\n",
       "    .dataframe tbody tr th {\n",
       "        vertical-align: top;\n",
       "    }\n",
       "\n",
       "    .dataframe thead th {\n",
       "        text-align: right;\n",
       "    }\n",
       "</style>\n",
       "<table border=\"1\" class=\"dataframe\">\n",
       "  <thead>\n",
       "    <tr style=\"text-align: right;\">\n",
       "      <th></th>\n",
       "      <th>preg</th>\n",
       "      <th>plas</th>\n",
       "      <th>pres</th>\n",
       "      <th>skin</th>\n",
       "      <th>test</th>\n",
       "      <th>mass</th>\n",
       "      <th>pedi</th>\n",
       "      <th>age</th>\n",
       "      <th>class</th>\n",
       "    </tr>\n",
       "  </thead>\n",
       "  <tbody>\n",
       "    <tr>\n",
       "      <th>preg</th>\n",
       "      <td>1.000000</td>\n",
       "      <td>0.129459</td>\n",
       "      <td>0.141282</td>\n",
       "      <td>-0.081672</td>\n",
       "      <td>-0.073535</td>\n",
       "      <td>0.017683</td>\n",
       "      <td>-0.033523</td>\n",
       "      <td>0.544341</td>\n",
       "      <td>0.221898</td>\n",
       "    </tr>\n",
       "    <tr>\n",
       "      <th>plas</th>\n",
       "      <td>0.129459</td>\n",
       "      <td>1.000000</td>\n",
       "      <td>0.152590</td>\n",
       "      <td>0.057328</td>\n",
       "      <td>0.331357</td>\n",
       "      <td>0.221071</td>\n",
       "      <td>0.137337</td>\n",
       "      <td>0.263514</td>\n",
       "      <td>0.466581</td>\n",
       "    </tr>\n",
       "    <tr>\n",
       "      <th>pres</th>\n",
       "      <td>0.141282</td>\n",
       "      <td>0.152590</td>\n",
       "      <td>1.000000</td>\n",
       "      <td>0.207371</td>\n",
       "      <td>0.088933</td>\n",
       "      <td>0.281805</td>\n",
       "      <td>0.041265</td>\n",
       "      <td>0.239528</td>\n",
       "      <td>0.065068</td>\n",
       "    </tr>\n",
       "    <tr>\n",
       "      <th>skin</th>\n",
       "      <td>-0.081672</td>\n",
       "      <td>0.057328</td>\n",
       "      <td>0.207371</td>\n",
       "      <td>1.000000</td>\n",
       "      <td>0.436783</td>\n",
       "      <td>0.392573</td>\n",
       "      <td>0.183928</td>\n",
       "      <td>-0.113970</td>\n",
       "      <td>0.074752</td>\n",
       "    </tr>\n",
       "    <tr>\n",
       "      <th>test</th>\n",
       "      <td>-0.073535</td>\n",
       "      <td>0.331357</td>\n",
       "      <td>0.088933</td>\n",
       "      <td>0.436783</td>\n",
       "      <td>1.000000</td>\n",
       "      <td>0.197859</td>\n",
       "      <td>0.185071</td>\n",
       "      <td>-0.042163</td>\n",
       "      <td>0.130548</td>\n",
       "    </tr>\n",
       "    <tr>\n",
       "      <th>mass</th>\n",
       "      <td>0.017683</td>\n",
       "      <td>0.221071</td>\n",
       "      <td>0.281805</td>\n",
       "      <td>0.392573</td>\n",
       "      <td>0.197859</td>\n",
       "      <td>1.000000</td>\n",
       "      <td>0.140647</td>\n",
       "      <td>0.036242</td>\n",
       "      <td>0.292695</td>\n",
       "    </tr>\n",
       "    <tr>\n",
       "      <th>pedi</th>\n",
       "      <td>-0.033523</td>\n",
       "      <td>0.137337</td>\n",
       "      <td>0.041265</td>\n",
       "      <td>0.183928</td>\n",
       "      <td>0.185071</td>\n",
       "      <td>0.140647</td>\n",
       "      <td>1.000000</td>\n",
       "      <td>0.033561</td>\n",
       "      <td>0.173844</td>\n",
       "    </tr>\n",
       "    <tr>\n",
       "      <th>age</th>\n",
       "      <td>0.544341</td>\n",
       "      <td>0.263514</td>\n",
       "      <td>0.239528</td>\n",
       "      <td>-0.113970</td>\n",
       "      <td>-0.042163</td>\n",
       "      <td>0.036242</td>\n",
       "      <td>0.033561</td>\n",
       "      <td>1.000000</td>\n",
       "      <td>0.238356</td>\n",
       "    </tr>\n",
       "    <tr>\n",
       "      <th>class</th>\n",
       "      <td>0.221898</td>\n",
       "      <td>0.466581</td>\n",
       "      <td>0.065068</td>\n",
       "      <td>0.074752</td>\n",
       "      <td>0.130548</td>\n",
       "      <td>0.292695</td>\n",
       "      <td>0.173844</td>\n",
       "      <td>0.238356</td>\n",
       "      <td>1.000000</td>\n",
       "    </tr>\n",
       "  </tbody>\n",
       "</table>\n",
       "</div>"
      ],
      "text/plain": [
       "           preg      plas      pres      skin      test      mass      pedi  \\\n",
       "preg   1.000000  0.129459  0.141282 -0.081672 -0.073535  0.017683 -0.033523   \n",
       "plas   0.129459  1.000000  0.152590  0.057328  0.331357  0.221071  0.137337   \n",
       "pres   0.141282  0.152590  1.000000  0.207371  0.088933  0.281805  0.041265   \n",
       "skin  -0.081672  0.057328  0.207371  1.000000  0.436783  0.392573  0.183928   \n",
       "test  -0.073535  0.331357  0.088933  0.436783  1.000000  0.197859  0.185071   \n",
       "mass   0.017683  0.221071  0.281805  0.392573  0.197859  1.000000  0.140647   \n",
       "pedi  -0.033523  0.137337  0.041265  0.183928  0.185071  0.140647  1.000000   \n",
       "age    0.544341  0.263514  0.239528 -0.113970 -0.042163  0.036242  0.033561   \n",
       "class  0.221898  0.466581  0.065068  0.074752  0.130548  0.292695  0.173844   \n",
       "\n",
       "            age     class  \n",
       "preg   0.544341  0.221898  \n",
       "plas   0.263514  0.466581  \n",
       "pres   0.239528  0.065068  \n",
       "skin  -0.113970  0.074752  \n",
       "test  -0.042163  0.130548  \n",
       "mass   0.036242  0.292695  \n",
       "pedi   0.033561  0.173844  \n",
       "age    1.000000  0.238356  \n",
       "class  0.238356  1.000000  "
      ]
     },
     "execution_count": 129,
     "metadata": {},
     "output_type": "execute_result"
    }
   ],
   "source": [
    "data.corr()"
   ]
  },
  {
   "cell_type": "markdown",
   "metadata": {
    "cell_id": "00016-c6dc3dd2-3401-45f6-82f1-9b8d3db94077",
    "colab_type": "text",
    "deepnote_cell_type": "markdown",
    "id": "P_7xRF11h4Uf"
   },
   "source": [
    "What column has the highest correlation with class? Find the mean() value of that column"
   ]
  },
  {
   "cell_type": "code",
   "execution_count": 130,
   "metadata": {
    "cell_id": "00017-b1dcf134-97de-42fa-ac10-96fe97db8e2c",
    "colab": {},
    "colab_type": "code",
    "deepnote_cell_type": "code",
    "id": "clb2Gh8Mn9d4"
   },
   "outputs": [
    {
     "name": "stdout",
     "output_type": "stream",
     "text": [
      "Column Most Correlated with Class: plas\n",
      "Mean Value of that Column: 120.89453125\n"
     ]
    }
   ],
   "source": [
    "correlations = data.corr()\n",
    "corr_with_class = correlations['class'].drop('class')\n",
    "\n",
    "highest_corr_col = corr_with_class.abs().idxmax()\n",
    "print(\"Column Most Correlated with Class:\", highest_corr_col)\n",
    "\n",
    "mean_high_corr = data[highest_corr_col].mean()\n",
    "print(\"Mean Value of that Column:\", mean_high_corr)"
   ]
  },
  {
   "cell_type": "markdown",
   "metadata": {
    "cell_id": "00018-fd63fcb2-c10a-4a26-b428-e30348fe833a",
    "colab_type": "text",
    "deepnote_cell_type": "markdown",
    "id": "64yWhAARoWw-"
   },
   "source": [
    "Create a new dataframe with only people that are above the mean found in the above cell."
   ]
  },
  {
   "cell_type": "code",
   "execution_count": 131,
   "metadata": {
    "cell_id": "00019-8b938a90-7bd5-4ba2-92f1-4df4ffc190e0",
    "colab": {},
    "colab_type": "code",
    "deepnote_cell_type": "code",
    "id": "HRLjs3agkdPY"
   },
   "outputs": [
    {
     "name": "stdout",
     "output_type": "stream",
     "text": [
      "People Above Average for All Columns:\n",
      "     preg  plas  pres  skin  test  mass   pedi  age  class\n",
      "43      9   171   110    24   240  45.4  0.721   54      1\n",
      "152     9   156    86    28   155  34.3  1.189   42      1\n",
      "159    17   163    72    41   114  40.9  0.817   47      1\n",
      "175     8   179    72    42   130  32.7  0.719   36      1\n",
      "206     8   196    76    29   280  37.5  0.605   57      1\n",
      "215    12   151    70    40   271  41.8  0.742   38      1\n",
      "236     7   181    84    21   192  35.9  0.586   51      1\n",
      "259    11   155    76    28   150  33.3  1.353   51      1\n",
      "375    12   140    82    43   325  39.2  0.528   58      1\n",
      "424     8   151    78    32   210  42.9  0.516   36      1\n",
      "458    10   148    84    48   237  37.6  1.001   51      1\n",
      "546     5   187    76    27   207  43.6  1.034   53      1\n",
      "603     7   150    78    29   126  35.2  0.692   54      1\n",
      "612     7   168    88    42   321  38.2  0.787   40      1\n",
      "614    11   138    74    26   144  36.1  0.557   50      1\n",
      "663     9   145    80    46   130  37.9  0.637   40      1\n"
     ]
    }
   ],
   "source": [
    "mean_values = data.mean()\n",
    "df_above_all_means = data[(data > mean_values).all(axis=1)]\n",
    "\n",
    "print(\"People Above Average for All Columns:\")\n",
    "print(df_above_all_means)"
   ]
  },
  {
   "cell_type": "markdown",
   "metadata": {
    "cell_id": "00020-d5d0c3ea-9655-4aa2-97dd-4bf3a09e357f",
    "colab_type": "text",
    "deepnote_cell_type": "markdown",
    "id": "RxGIQp0JrUnq"
   },
   "source": [
    "Create a new dataframe that only includes people who are above the average value for each column in the dataset. In other words, find the average value for each column, and then find which users have values above all of these average column values."
   ]
  },
  {
   "cell_type": "code",
   "execution_count": 132,
   "metadata": {
    "cell_id": "00021-064e8e41-d624-434c-a65a-392e463c840e",
    "colab": {},
    "colab_type": "code",
    "deepnote_cell_type": "code",
    "id": "Ylf4p6NNrfME"
   },
   "outputs": [
    {
     "name": "stdout",
     "output_type": "stream",
     "text": [
      "People Above Average for All Columns:\n",
      "     preg  plas  pres  skin  test  mass   pedi  age  class\n",
      "43      9   171   110    24   240  45.4  0.721   54      1\n",
      "152     9   156    86    28   155  34.3  1.189   42      1\n",
      "159    17   163    72    41   114  40.9  0.817   47      1\n",
      "175     8   179    72    42   130  32.7  0.719   36      1\n",
      "206     8   196    76    29   280  37.5  0.605   57      1\n",
      "215    12   151    70    40   271  41.8  0.742   38      1\n",
      "236     7   181    84    21   192  35.9  0.586   51      1\n",
      "259    11   155    76    28   150  33.3  1.353   51      1\n",
      "375    12   140    82    43   325  39.2  0.528   58      1\n",
      "424     8   151    78    32   210  42.9  0.516   36      1\n",
      "458    10   148    84    48   237  37.6  1.001   51      1\n",
      "546     5   187    76    27   207  43.6  1.034   53      1\n",
      "603     7   150    78    29   126  35.2  0.692   54      1\n",
      "612     7   168    88    42   321  38.2  0.787   40      1\n",
      "614    11   138    74    26   144  36.1  0.557   50      1\n",
      "663     9   145    80    46   130  37.9  0.637   40      1\n"
     ]
    }
   ],
   "source": [
    "mean_values = data.mean()\n",
    "df_above_all_means = data[(data > mean_values).all(axis=1)]\n",
    "print(\"People Above Average for All Columns:\")\n",
    "print(df_above_all_means)"
   ]
  },
  {
   "cell_type": "markdown",
   "metadata": {
    "cell_id": "00022-a1b28b03-6953-469c-a45d-80d21b3d36f6",
    "colab_type": "text",
    "deepnote_cell_type": "markdown",
    "id": "Cy_6ce7_8qAB"
   },
   "source": [
    "*Note: the next 3 problems were not explicitly shown in our tutorial—being able to effectively google and look through documentation is a very important coding tool!* ¯\\\\\\_(ツ)_/¯"
   ]
  },
  {
   "cell_type": "markdown",
   "metadata": {
    "cell_id": "00023-818ed759-16d8-4469-8fcb-19c412faa4c9",
    "colab_type": "text",
    "deepnote_cell_type": "markdown",
    "id": "24pCgP2xbCwZ"
   },
   "source": [
    "Ignoring the index (resetting the index to 0) and using the dataframe from the cell above, sort the values based on `\"skin\"`, `\"test\"`, and `\"pedi\"` values in ascending order. Please write this in one line."
   ]
  },
  {
   "cell_type": "code",
   "execution_count": 133,
   "metadata": {
    "cell_id": "00024-1c8fa3ef-1628-44ef-bef7-554c548fea45",
    "colab": {},
    "colab_type": "code",
    "deepnote_cell_type": "code",
    "id": "wXZysbVwa7i5"
   },
   "outputs": [
    {
     "name": "stdout",
     "output_type": "stream",
     "text": [
      "Sorted DataFrame:\n",
      "    preg  plas  pres  skin  test  mass   pedi  age  class\n",
      "6      7   181    84    21   192  35.9  0.586   51      1\n",
      "0      9   171   110    24   240  45.4  0.721   54      1\n",
      "14    11   138    74    26   144  36.1  0.557   50      1\n",
      "11     5   187    76    27   207  43.6  1.034   53      1\n",
      "7     11   155    76    28   150  33.3  1.353   51      1\n"
     ]
    }
   ],
   "source": [
    "sorted_df = df_above_all_means.reset_index(drop=True)\n",
    "sorted_df = sorted_df.sort_values(by=['skin', 'test', 'pedi'], ascending=True)\n",
    "\n",
    "print(\"Sorted DataFrame:\")\n",
    "print(sorted_df.head())"
   ]
  },
  {
   "cell_type": "markdown",
   "metadata": {
    "cell_id": "00025-31c03cc1-a702-4c90-89f0-dab8fb9b51bf",
    "colab_type": "text",
    "deepnote_cell_type": "markdown",
    "id": "BIJkXsK4ch-u"
   },
   "source": [
    "Now let's find the 4 largest values for `\"age\"`"
   ]
  },
  {
   "cell_type": "code",
   "execution_count": 134,
   "metadata": {
    "cell_id": "00026-9728e4ca-d0d3-4d8c-a818-707a90e9e5d3",
    "colab": {},
    "colab_type": "code",
    "deepnote_cell_type": "code",
    "id": "kSl28jLLdAF9"
   },
   "outputs": [
    {
     "name": "stdout",
     "output_type": "stream",
     "text": [
      "4 Largest Ages:\n",
      "     age\n",
      "459   81\n",
      "453   72\n",
      "666   70\n",
      "123   69\n"
     ]
    }
   ],
   "source": [
    "top4_age = data.nlargest(4, 'age')\n",
    "print(\"4 Largest Ages:\")\n",
    "print(top4_age[['age']])"
   ]
  },
  {
   "cell_type": "markdown",
   "metadata": {
    "cell_id": "00027-a5e12cb1-a313-47bf-9640-256181c460ad",
    "colab_type": "text",
    "deepnote_cell_type": "markdown",
    "id": "fJRwe8UfqvNG"
   },
   "source": [
    "Now find the smallest 4 values for `\"pedi\"` and `\"plas\"` in reverse order (smallest to largest)."
   ]
  },
  {
   "cell_type": "code",
   "execution_count": 135,
   "metadata": {
    "cell_id": "00028-2add4c0a-65b7-424e-a4d9-756817979e60",
    "colab": {},
    "colab_type": "code",
    "deepnote_cell_type": "code",
    "id": "icQcbPg1quNI"
   },
   "outputs": [
    {
     "name": "stdout",
     "output_type": "stream",
     "text": [
      "Smallest 4 Values for Pedi:\n",
      "      pedi\n",
      "268  0.078\n",
      "180  0.084\n",
      "149  0.085\n",
      "567  0.085\n",
      "\n",
      "Smallest 4 Calues for Plas:\n",
      "     plas\n",
      "75      0\n",
      "182     0\n",
      "342     0\n",
      "349     0\n"
     ]
    }
   ],
   "source": [
    "smallest_pedi = data.nsmallest(4, 'pedi')[['pedi']]\n",
    "smallest_plas = data.nsmallest(4, 'plas')[['plas']]\n",
    "\n",
    "print(\"Smallest 4 Values for Pedi:\")\n",
    "print(smallest_pedi)\n",
    "\n",
    "print(\"\\nSmallest 4 Calues for Plas:\")\n",
    "print(smallest_plas)"
   ]
  },
  {
   "cell_type": "markdown",
   "metadata": {
    "created_in_deepnote_cell": true,
    "deepnote_cell_type": "markdown",
    "tags": []
   },
   "source": [
    "<a style='text-decoration:none;line-height:16px;display:flex;color:#5B5B62;padding:10px;justify-content:end;' href='https://deepnote.com?utm_source=created-in-deepnote-cell&projectId=f3d2e979-42f4-4fa4-a66a-116a1c2662d5' target=\"_blank\">\n",
    "<img alt='Created in deepnote.com' style='display:inline;max-height:16px;margin:0px;margin-right:7.5px;' src='data:image/svg+xml;base64,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' > </img>\n",
    "Created in <span style='font-weight:600;margin-left:4px;'>Deepnote</span></a>"
   ]
  }
 ],
 "metadata": {
  "colab": {
   "collapsed_sections": [],
   "name": "Pandas_Exercises",
   "provenance": []
  },
  "deepnote": {},
  "deepnote_execution_queue": [],
  "deepnote_notebook_id": "86faf811-6ae2-4018-b15f-d354237ab127",
  "kernelspec": {
   "display_name": "Python 3",
   "language": "python",
   "name": "python3"
  },
  "language_info": {
   "codemirror_mode": {
    "name": "ipython",
    "version": 3
   },
   "file_extension": ".py",
   "mimetype": "text/x-python",
   "name": "python",
   "nbconvert_exporter": "python",
   "pygments_lexer": "ipython3",
   "version": "3.12.10"
  }
 },
 "nbformat": 4,
 "nbformat_minor": 0
}
